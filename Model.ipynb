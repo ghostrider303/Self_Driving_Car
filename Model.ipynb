{
 "cells": [
  {
   "cell_type": "code",
   "execution_count": 3,
   "metadata": {
    "scrolled": true
   },
   "outputs": [],
   "source": [
    "import os\n",
    "os.environ['CUDA_VISIBLE_DEVICES'] = ''\n",
    "import numpy as np\n",
    "from sklearn.model_selection import train_test_split\n",
    "from keras.models import Sequential, save_model\n",
    "from keras.optimizers import Adam\n",
    "from keras.callbacks import ModelCheckpoint\n",
    "from keras.layers import Conv2D, MaxPooling2D, Dropout, Dense, Flatten\n",
    "from Utils import inputshape, generate_dataset"
   ]
  },
  {
   "cell_type": "code",
   "execution_count": 4,
   "metadata": {},
   "outputs": [
    {
     "name": "stdout",
     "output_type": "stream",
     "text": [
      "(7143, 66, 200, 3) (1786, 66, 200, 3)\n",
      "(7143,) (1786,)\n"
     ]
    }
   ],
   "source": [
    "data_X, data_Y = generate_dataset()\n",
    "X_train, X_test, Y_train, Y_test = train_test_split(data_X, data_Y, test_size = 0.2  )\n",
    "X_train = X_train/255.0\n",
    "X_test = X_test/255.0\n",
    "print (X_train.shape, X_test.shape)\n",
    "print (Y_train.shape, Y_test.shape)"
   ]
  },
  {
   "cell_type": "code",
   "execution_count": null,
   "metadata": {},
   "outputs": [],
   "source": []
  },
  {
   "cell_type": "code",
   "execution_count": 14,
   "metadata": {
    "scrolled": true
   },
   "outputs": [
    {
     "name": "stderr",
     "output_type": "stream",
     "text": [
      "c:\\users\\anuj_chauhan\\appdata\\local\\programs\\python\\python35\\lib\\site-packages\\ipykernel_launcher.py:2: UserWarning: Update your `Conv2D` call to the Keras 2 API: `Conv2D(24, (5, 5), input_shape=(66, 200, ..., activation=\"relu\", strides=(2, 2))`\n",
      "  \n",
      "c:\\users\\anuj_chauhan\\appdata\\local\\programs\\python\\python35\\lib\\site-packages\\ipykernel_launcher.py:3: UserWarning: Update your `Conv2D` call to the Keras 2 API: `Conv2D(36, (5, 5), activation=\"relu\", strides=(2, 2))`\n",
      "  This is separate from the ipykernel package so we can avoid doing imports until\n",
      "c:\\users\\anuj_chauhan\\appdata\\local\\programs\\python\\python35\\lib\\site-packages\\ipykernel_launcher.py:4: UserWarning: Update your `Conv2D` call to the Keras 2 API: `Conv2D(48, (5, 5), activation=\"relu\", strides=(2, 2))`\n",
      "  after removing the cwd from sys.path.\n",
      "c:\\users\\anuj_chauhan\\appdata\\local\\programs\\python\\python35\\lib\\site-packages\\ipykernel_launcher.py:5: UserWarning: Update your `Conv2D` call to the Keras 2 API: `Conv2D(64, (3, 3), activation=\"relu\")`\n",
      "  \"\"\"\n",
      "c:\\users\\anuj_chauhan\\appdata\\local\\programs\\python\\python35\\lib\\site-packages\\ipykernel_launcher.py:6: UserWarning: Update your `Conv2D` call to the Keras 2 API: `Conv2D(64, (3, 3), activation=\"relu\")`\n",
      "  \n"
     ]
    },
    {
     "name": "stdout",
     "output_type": "stream",
     "text": [
      "_________________________________________________________________\n",
      "Layer (type)                 Output Shape              Param #   \n",
      "=================================================================\n",
      "conv2d_43 (Conv2D)           (None, 31, 98, 24)        1824      \n",
      "_________________________________________________________________\n",
      "conv2d_44 (Conv2D)           (None, 14, 47, 36)        21636     \n",
      "_________________________________________________________________\n",
      "conv2d_45 (Conv2D)           (None, 5, 22, 48)         43248     \n",
      "_________________________________________________________________\n",
      "conv2d_46 (Conv2D)           (None, 3, 20, 64)         27712     \n",
      "_________________________________________________________________\n",
      "conv2d_47 (Conv2D)           (None, 1, 18, 64)         36928     \n",
      "_________________________________________________________________\n",
      "dropout_1 (Dropout)          (None, 1, 18, 64)         0         \n",
      "_________________________________________________________________\n",
      "flatten_1 (Flatten)          (None, 1152)              0         \n",
      "_________________________________________________________________\n",
      "dense_1 (Dense)              (None, 120)               138360    \n",
      "_________________________________________________________________\n",
      "dense_2 (Dense)              (None, 80)                9680      \n",
      "_________________________________________________________________\n",
      "dense_3 (Dense)              (None, 40)                3240      \n",
      "_________________________________________________________________\n",
      "dense_4 (Dense)              (None, 10)                410       \n",
      "_________________________________________________________________\n",
      "dense_5 (Dense)              (None, 1)                 11        \n",
      "=================================================================\n",
      "Total params: 283,049\n",
      "Trainable params: 283,049\n",
      "Non-trainable params: 0\n",
      "_________________________________________________________________\n"
     ]
    }
   ],
   "source": [
    "prototype=Sequential()\n",
    "prototype.add(Conv2D(24,5,5,activation='relu',input_shape=inputshape,subsample=(2,2)))\n",
    "prototype.add(Conv2D(36,5,5,activation='relu',subsample=(2,2)))\n",
    "prototype.add(Conv2D(48,5,5,activation='relu',subsample=(2,2)))\n",
    "prototype.add(Conv2D(64,3,3,activation='relu'))\n",
    "prototype.add(Conv2D(64,3,3,activation='relu'))\n",
    "#prototype.add(Conv2D(96,5,5,activation='relu'))\n",
    "prototype.add(Dropout(0.4))\n",
    "prototype.add(Flatten())\n",
    "prototype.add(Dense(120,activation='relu'))\n",
    "prototype.add(Dense(80,activation='relu'))\n",
    "prototype.add(Dense(40,activation='relu'))\n",
    "prototype.add(Dense(10,activation='relu'))\n",
    "prototype.add(Dense(1))\n",
    "prototype.summary()\n",
    "\n"
   ]
  },
  {
   "cell_type": "code",
   "execution_count": 15,
   "metadata": {},
   "outputs": [],
   "source": [
    "checkpoint=ModelCheckpoint('model-{val_loss:.4f}.h5',monitor='val_loss',verbose=0,save_best_only=True,mode='auto')\n",
    "prototype.compile(loss='mean_squared_error',optimizer=Adam(lr=1.0e-4))"
   ]
  },
  {
   "cell_type": "code",
   "execution_count": 17,
   "metadata": {},
   "outputs": [
    {
     "name": "stderr",
     "output_type": "stream",
     "text": [
      "c:\\users\\anuj_chauhan\\appdata\\local\\programs\\python\\python35\\lib\\site-packages\\ipykernel_launcher.py:1: UserWarning: The `nb_epoch` argument in `fit` has been renamed `epochs`.\n",
      "  \"\"\"Entry point for launching an IPython kernel.\n"
     ]
    },
    {
     "name": "stdout",
     "output_type": "stream",
     "text": [
      "Train on 7143 samples, validate on 1786 samples\n",
      "Epoch 1/30\n",
      "7143/7143 [==============================] - 382s 53ms/step - loss: 0.0584 - val_loss: 0.0630\n",
      "Epoch 2/30\n",
      "7143/7143 [==============================] - 378s 53ms/step - loss: 0.0572 - val_loss: 0.0607\n",
      "Epoch 3/30\n",
      "7143/7143 [==============================] - 384s 54ms/step - loss: 0.0536 - val_loss: 0.0541\n",
      "Epoch 4/30\n",
      "7143/7143 [==============================] - 385s 54ms/step - loss: 0.0485 - val_loss: 0.0500\n",
      "Epoch 5/30\n",
      "7143/7143 [==============================] - 405s 57ms/step - loss: 0.0452 - val_loss: 0.0479\n",
      "Epoch 6/30\n",
      "7143/7143 [==============================] - 438s 61ms/step - loss: 0.0432 - val_loss: 0.0463\n",
      "Epoch 7/30\n",
      "7143/7143 [==============================] - 454s 64ms/step - loss: 0.0418 - val_loss: 0.0448\n",
      "Epoch 8/30\n",
      "7143/7143 [==============================] - 471s 66ms/step - loss: 0.0407 - val_loss: 0.0437\n",
      "Epoch 9/30\n",
      "7143/7143 [==============================] - 445s 62ms/step - loss: 0.0405 - val_loss: 0.0431\n",
      "Epoch 10/30\n",
      "7143/7143 [==============================] - 447s 63ms/step - loss: 0.0395 - val_loss: 0.0426\n",
      "Epoch 11/30\n",
      "7143/7143 [==============================] - 459s 64ms/step - loss: 0.0388 - val_loss: 0.0425\n",
      "Epoch 12/30\n",
      "7143/7143 [==============================] - 474s 66ms/step - loss: 0.0388 - val_loss: 0.0418\n",
      "Epoch 13/30\n",
      "7143/7143 [==============================] - 438s 61ms/step - loss: 0.0383 - val_loss: 0.0423\n",
      "Epoch 14/30\n",
      "7143/7143 [==============================] - 435s 61ms/step - loss: 0.0373 - val_loss: 0.0416\n",
      "Epoch 15/30\n",
      "7143/7143 [==============================] - 20844s 3s/step - loss: 0.0370 - val_loss: 0.0416\n",
      "Epoch 16/30\n",
      "7143/7143 [==============================] - 435s 61ms/step - loss: 0.0369 - val_loss: 0.0405\n",
      "Epoch 17/30\n",
      "7143/7143 [==============================] - 433s 61ms/step - loss: 0.0362 - val_loss: 0.0401\n",
      "Epoch 18/30\n",
      "7143/7143 [==============================] - 3525s 493ms/step - loss: 0.0360 - val_loss: 0.0397\n",
      "Epoch 19/30\n",
      "7143/7143 [==============================] - 437s 61ms/step - loss: 0.0351 - val_loss: 0.0397\n",
      "Epoch 20/30\n",
      "7143/7143 [==============================] - 438s 61ms/step - loss: 0.0348 - val_loss: 0.0393\n",
      "Epoch 21/30\n",
      "7143/7143 [==============================] - 434s 61ms/step - loss: 0.0347 - val_loss: 0.0393\n",
      "Epoch 22/30\n",
      "7143/7143 [==============================] - 438s 61ms/step - loss: 0.0347 - val_loss: 0.0391\n",
      "Epoch 23/30\n",
      "7143/7143 [==============================] - 439s 61ms/step - loss: 0.0342 - val_loss: 0.0389\n",
      "Epoch 24/30\n",
      "7143/7143 [==============================] - 438s 61ms/step - loss: 0.0341 - val_loss: 0.0398\n",
      "Epoch 25/30\n",
      "7143/7143 [==============================] - 436s 61ms/step - loss: 0.0337 - val_loss: 0.0385\n",
      "Epoch 26/30\n",
      "7143/7143 [==============================] - 439s 61ms/step - loss: 0.0330 - val_loss: 0.0389\n",
      "Epoch 27/30\n",
      "7143/7143 [==============================] - 438s 61ms/step - loss: 0.0334 - val_loss: 0.0384\n",
      "Epoch 28/30\n",
      "7143/7143 [==============================] - 436s 61ms/step - loss: 0.0328 - val_loss: 0.0387\n",
      "Epoch 29/30\n",
      "7143/7143 [==============================] - 425s 60ms/step - loss: 0.0327 - val_loss: 0.0383\n",
      "Epoch 30/30\n",
      "7143/7143 [==============================] - 421s 59ms/step - loss: 0.0329 - val_loss: 0.0388\n"
     ]
    },
    {
     "data": {
      "text/plain": [
       "<keras.callbacks.History at 0x1d8a536e780>"
      ]
     },
     "execution_count": 17,
     "metadata": {},
     "output_type": "execute_result"
    }
   ],
   "source": [
    "prototype.fit( X_train, Y_train, batch_size=300, nb_epoch=30, validation_data=(X_test, Y_test),callbacks=[checkpoint], shuffle=True )"
   ]
  },
  {
   "cell_type": "code",
   "execution_count": null,
   "metadata": {},
   "outputs": [],
   "source": []
  },
  {
   "cell_type": "code",
   "execution_count": null,
   "metadata": {},
   "outputs": [],
   "source": []
  },
  {
   "cell_type": "code",
   "execution_count": null,
   "metadata": {},
   "outputs": [],
   "source": []
  }
 ],
 "metadata": {
  "kernelspec": {
   "display_name": "Python 3",
   "language": "python",
   "name": "python3"
  },
  "language_info": {
   "codemirror_mode": {
    "name": "ipython",
    "version": 3
   },
   "file_extension": ".py",
   "mimetype": "text/x-python",
   "name": "python",
   "nbconvert_exporter": "python",
   "pygments_lexer": "ipython3",
   "version": "3.5.2"
  }
 },
 "nbformat": 4,
 "nbformat_minor": 2
}
